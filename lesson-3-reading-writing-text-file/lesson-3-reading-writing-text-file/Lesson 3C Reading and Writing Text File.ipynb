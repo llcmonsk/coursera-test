{
 "cells": [
  {
   "cell_type": "markdown",
   "metadata": {},
   "source": [
    "# Lecture 3C—Plain Text File Reading and Writing"
   ]
  },
  {
   "cell_type": "markdown",
   "metadata": {},
   "source": [
    "In this lecture, we will explore reading and writing plain text files.\n",
    "\n",
    "We will learn:\n",
    "\n",
    "- [Read TXT file](#Reading-plain-text-file)\n",
    "- [Write TXT file](#Example-of-writing-plain-text-file:-Diary-logging)"
   ]
  },
  {
   "cell_type": "markdown",
   "metadata": {},
   "source": [
    "## Reading plain text file"
   ]
  },
  {
   "cell_type": "markdown",
   "metadata": {},
   "source": [
    "We can use `open()` to read and write plain text file. There are 3 modes when opening a file: \n",
    "\n",
    "- `r` for reading.\n",
    "- `w` for over-writing.\n",
    "- `a` for appending."
   ]
  },
  {
   "cell_type": "markdown",
   "metadata": {},
   "source": [
    "👇🏻 Please note that we need to specify `encoding=\"utf-8\"` in Windows for the `open` function."
   ]
  },
  {
   "cell_type": "code",
   "execution_count": 1,
   "metadata": {
    "scrolled": true
   },
   "outputs": [
    {
     "ename": "UnicodeDecodeError",
     "evalue": "'cp950' codec can't decode byte 0xe2 in position 37: illegal multibyte sequence",
     "output_type": "error",
     "traceback": [
      "\u001b[1;31m---------------------------------------------------------------------------\u001b[0m",
      "\u001b[1;31mUnicodeDecodeError\u001b[0m                        Traceback (most recent call last)",
      "\u001b[1;32m<ipython-input-1-bc902fd6acbf>\u001b[0m in \u001b[0;36m<module>\u001b[1;34m\u001b[0m\n\u001b[0;32m      1\u001b[0m \u001b[1;32mwith\u001b[0m \u001b[0mopen\u001b[0m\u001b[1;33m(\u001b[0m\u001b[1;34m\"quotes.txt\"\u001b[0m\u001b[1;33m)\u001b[0m \u001b[1;32mas\u001b[0m \u001b[0mfile_obj\u001b[0m\u001b[1;33m:\u001b[0m\u001b[1;33m\u001b[0m\u001b[1;33m\u001b[0m\u001b[0m\n\u001b[1;32m----> 2\u001b[1;33m     \u001b[0mquotes\u001b[0m \u001b[1;33m=\u001b[0m \u001b[0mfile_obj\u001b[0m\u001b[1;33m.\u001b[0m\u001b[0mread\u001b[0m\u001b[1;33m(\u001b[0m\u001b[1;33m)\u001b[0m\u001b[1;33m.\u001b[0m\u001b[0msplitlines\u001b[0m\u001b[1;33m(\u001b[0m\u001b[1;33m)\u001b[0m\u001b[1;33m\u001b[0m\u001b[1;33m\u001b[0m\u001b[0m\n\u001b[0m\u001b[0;32m      3\u001b[0m \u001b[1;33m\u001b[0m\u001b[0m\n\u001b[0;32m      4\u001b[0m \u001b[0mquotes\u001b[0m\u001b[1;33m\u001b[0m\u001b[1;33m\u001b[0m\u001b[0m\n",
      "\u001b[1;31mUnicodeDecodeError\u001b[0m: 'cp950' codec can't decode byte 0xe2 in position 37: illegal multibyte sequence"
     ]
    }
   ],
   "source": [
    "with open(\"quotes.txt\") as file_obj:\n",
    "    quotes = file_obj.read().splitlines()\n",
    "    \n",
    "quotes"
   ]
  },
  {
   "cell_type": "code",
   "execution_count": 1,
   "metadata": {},
   "outputs": [
    {
     "data": {
      "text/plain": [
       "['I want to put a ding in the universe.—Steve Jobs',\n",
       " 'Life is 10% what happens to you and 90% how you react to it.—Charles R. Swindoll',\n",
       " \"Family is not an important thing. It's everything.—Michael J. Fox\",\n",
       " \"Nothing is impossible, the word itself says 'I'm possible'!—Audrey Hepburn\",\n",
       " 'There are two ways of spreading light: to be the candle or the mirror that reflects it.—Edith Wharton',\n",
       " \"Try to be a rainbow in someone's cloud.—Maya Angelou\",\n",
       " 'Be brave enough to live life creatively. The creative place where no one else has ever been.—Alan Alda',\n",
       " 'The secret of getting ahead is getting started.—Mark Twain']"
      ]
     },
     "execution_count": 1,
     "metadata": {},
     "output_type": "execute_result"
    }
   ],
   "source": [
    "with open(\"quotes.txt\", encoding=\"utf-8\") as file_obj:\n",
    "    quotes = file_obj.read().splitlines()\n",
    "    \n",
    "quotes"
   ]
  },
  {
   "cell_type": "code",
   "execution_count": 10,
   "metadata": {},
   "outputs": [
    {
     "data": {
      "text/plain": [
       "['I want to put a ding in the universe.—Steve Jobs',\n",
       " 'Life is 10% what happens to you and 90% how you react to it.—Charles R. Swindoll',\n",
       " \"Family is not an important thing. It's everything.—Michael J. Fox\",\n",
       " \"Nothing is impossible, the word itself says 'I'm possible'!—Audrey Hepburn\",\n",
       " 'There are two ways of spreading light: to be the candle or the mirror that reflects it.—Edith Wharton',\n",
       " \"Try to be a rainbow in someone's cloud.—Maya Angelou\",\n",
       " 'Be brave enough to live life creatively. The creative place where no one else has ever been.—Alan Alda',\n",
       " 'The secret of getting ahead is getting started.—Mark Twain']"
      ]
     },
     "execution_count": 10,
     "metadata": {},
     "output_type": "execute_result"
    }
   ],
   "source": [
    "with open(\"quotes.txt\", encoding=\"utf-8\") as file_obj:\n",
    "    quotes = file_obj.read().split(\"\\n\")\n",
    "    \n",
    "quotes"
   ]
  },
  {
   "cell_type": "code",
   "execution_count": 9,
   "metadata": {},
   "outputs": [
    {
     "name": "stdout",
     "output_type": "stream",
     "text": [
      "Try to be a rainbow in someone's cloud.—Maya Angelou\n"
     ]
    }
   ],
   "source": [
    "import random\n",
    "\n",
    "quote = random.choice(quotes)\n",
    "\n",
    "print(quote)"
   ]
  },
  {
   "cell_type": "markdown",
   "metadata": {},
   "source": [
    "## Example of writing plain text file: Diary logging\n"
   ]
  },
  {
   "cell_type": "code",
   "execution_count": 11,
   "metadata": {},
   "outputs": [
    {
     "name": "stdout",
     "output_type": "stream",
     "text": [
      "What do you want to say to Mr. Diary? x\n",
      "2020-08-10: Hello python.\n",
      "2021-03-04: 1213\n",
      "2021-03-04: x\n"
     ]
    }
   ],
   "source": [
    "import datetime\n",
    "\n",
    "content = input(\"What do you want to say to Mr. Diary? \")\n",
    "if len(content) > 0:\n",
    "    with open('diary.txt', \"a\") as file_obj:\n",
    "        today = datetime.date.today().isoformat()\n",
    "        file_obj.write(today + \": \" + content + \"\\n\")\n",
    "\n",
    "with open('diary.txt', \"r\") as file_obj:\n",
    "    lines = file_obj.readlines()\n",
    "    for line in lines[-3:]:\n",
    "        print(line.rstrip())\n"
   ]
  },
  {
   "cell_type": "code",
   "execution_count": 26,
   "metadata": {},
   "outputs": [
    {
     "name": "stdout",
     "output_type": "stream",
     "text": [
      "Enter your namemary\n",
      "Enter your student numbers9803099\n",
      "question:1\n",
      "2+24\n",
      "question:2\n",
      "4+46\n",
      "question:3\n",
      "1+12\n",
      "question:4\n",
      "3+36\n",
      "still got things to learn\n",
      "you get 75.0\n",
      "2021-03-04: \n",
      "\n",
      "name: mary\n",
      "\n",
      "student number: s9803099\n",
      "\n",
      "you get 75.0\n",
      "\n"
     ]
    }
   ],
   "source": [
    "import random\n",
    "import datetime\n",
    "\n",
    "name = input(\"Enter your name\")\n",
    "student_number = input(\"Enter your student number\")\n",
    "question_list = [\"1+1\",\"2+2\",\"3+3\",\"4+4\"]\n",
    "answer_list = [\"2\",\"4\",\"6\",\"8\"]\n",
    "question_number = [\"1\",\"2\",\"3\",\"4\"]\n",
    "list = []\n",
    "points = 0\n",
    "\n",
    "while len(list) < 4:\n",
    "    r = random.randint(0,3)\n",
    "    if r not in list:\n",
    "        list.append(r)\n",
    "\n",
    "for j in range(4):\n",
    "    question = question_number[j]\n",
    "    print(f\"question:{question}\")\n",
    "    value = input(question_list[list[j]])\n",
    "    answer = (answer_list[list[j]])\n",
    "   \n",
    "    if answer == value:\n",
    "        points = points + (100/len(list))\n",
    "\n",
    "if points <= 50:\n",
    "    print(f\"better luck next time\")\n",
    "elif points <=80:\n",
    "    print(f\"still got things to learn\")\n",
    "elif points <=100:\n",
    "    print(f\"you did great\")\n",
    "    \n",
    "print(f\"you get {points}\")\n",
    "    \n",
    "studentrec = \"diary\"+ str(student_number) +\".txt\" \n",
    "with open (studentrec, 'a') as file_obj:\n",
    "    today = datetime.date.today().isoformat()\n",
    "    file_obj.write(today + \": \"+ \"\\n\" + \"name: \"+ name +\"\\n\")\n",
    "    file_obj.write(\"student number: \"+ student_number +\"\\n\")\n",
    "    file_obj.write(\"you get \"+ str(points) +\"\\n\")\n",
    "    \n",
    "with open (studentrec, 'r') as file_obj:\n",
    "    lines = file_obj.readlines()\n",
    "    for line in lines[-4:]:\n",
    "        print(line.rstrip(' '))\n",
    "    "
   ]
  },
  {
   "cell_type": "code",
   "execution_count": 24,
   "metadata": {},
   "outputs": [
    {
     "name": "stdout",
     "output_type": "stream",
     "text": [
      "diary1.txt\n"
     ]
    }
   ],
   "source": [
    "\n",
    "student_number = 1\n",
    "studentrec = \"diary\" + str(student_number) + \".txt\"\n",
    "print(studentrec)"
   ]
  },
  {
   "cell_type": "markdown",
   "metadata": {},
   "source": [
    "## Summary\n",
    "\n",
    "In this section, we learned to read and write plain text file. \n",
    "\n",
    "isoformat() : change the format of the data into international standard"
   ]
  }
 ],
 "metadata": {
  "kernelspec": {
   "display_name": "Python 3",
   "language": "python",
   "name": "python3"
  },
  "language_info": {
   "codemirror_mode": {
    "name": "ipython",
    "version": 3
   },
   "file_extension": ".py",
   "mimetype": "text/x-python",
   "name": "python",
   "nbconvert_exporter": "python",
   "pygments_lexer": "ipython3",
   "version": "3.7.6"
  }
 },
 "nbformat": 4,
 "nbformat_minor": 2
}
