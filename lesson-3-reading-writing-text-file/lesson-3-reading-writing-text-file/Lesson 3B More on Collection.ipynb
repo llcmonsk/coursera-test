{
 "cells": [
  {
   "cell_type": "markdown",
   "metadata": {},
   "source": [
    "# Lecture 3B: Quotes example: More examples on using collection"
   ]
  },
  {
   "cell_type": "markdown",
   "metadata": {},
   "source": [
    "Version 1.0. Prepared by [Makzan](https://makzan.net)."
   ]
  },
  {
   "cell_type": "markdown",
   "metadata": {},
   "source": [
    "In this example, we explore different ways to store multiple- collections. They are:\n",
    "\n",
    "- [List/Tuple with string spliting](#List-and-tuple)\n",
    "- [Nested List/Tuple](#Nested-list/tuple)\n",
    "- [Dictionary](#Using-Dictionary)\n",
    "- [namedtuple](#Using-namedtuple)"
   ]
  },
  {
   "cell_type": "markdown",
   "metadata": {},
   "source": [
    "## List and tuple\n",
    "\n",
    "If we do not need to separate the multiple columns, we dont necessary need to separate them.\n",
    "\n",
    "\n",
    "A list simply fulfils the job:"
   ]
  },
  {
   "cell_type": "code",
   "execution_count": 9,
   "metadata": {},
   "outputs": [
    {
     "name": "stdout",
     "output_type": "stream",
     "text": [
      "I want to put a ding in the universe.—Steve Jobs\n"
     ]
    }
   ],
   "source": [
    "import random\n",
    "\n",
    "quotes = (\n",
    "    \"I want to put a ding in the universe.—Steve Jobs\",\n",
    "    \"Life is 10% what happens to you and 90% how you react to it.—Charles R. Swindoll\",\n",
    "    \"Family is not an important thing. It's everything.—Michael J. Fox\",\n",
    "    \"Nothing is impossible, the word itself says 'I'm possible'!—Audrey Hepburn\",\n",
    "    \"There are two ways of spreading light: to be the candle or the mirror that reflects it.—Edith Wharton\",\n",
    "    \"Try to be a rainbow in someone's cloud.—Maya Angelou\",\n",
    "    \"Be brave enough to live life creatively. The creative place where no one else has ever been.—Alan Alda\",\n",
    "    \"The secret of getting ahead is getting started.—Mark Twain\",\n",
    ")\n",
    "\n",
    "print( random.choice(quotes) )"
   ]
  },
  {
   "cell_type": "markdown",
   "metadata": {},
   "source": [
    "## Using string split"
   ]
  },
  {
   "cell_type": "markdown",
   "metadata": {},
   "source": [
    "Given that the data is only a list of string. Each string contains two data: the quote content and who was saying that. They are separated by a dash `—`.\n",
    "\n",
    "We can use `split()` to split any string by given \"separator\".\n",
    "\n",
    "For instance, we can use `split(\"—\")`."
   ]
  },
  {
   "cell_type": "code",
   "execution_count": 10,
   "metadata": {},
   "outputs": [
    {
     "name": "stdout",
     "output_type": "stream",
     "text": [
      "Mark Twain said: The secret of getting ahead is getting started.\n"
     ]
    }
   ],
   "source": [
    "import random \n",
    "\n",
    "quotes = (\n",
    "    \"I want to put a ding in the universe.—Steve Jobs\",\n",
    "    \"Life is 10% what happens to you and 90% how you react to it.—Charles R. Swindoll\",\n",
    "    \"Family is not an important thing. It's everything.—Michael J. Fox\",\n",
    "    \"Nothing is impossible, the word itself says 'I'm possible'!—Audrey Hepburn\",\n",
    "    \"There are two ways of spreading light: to be the candle or the mirror that reflects it.—Edith Wharton\",\n",
    "    \"Try to be a rainbow in someone's cloud.—Maya Angelou\",\n",
    "    \"Be brave enough to live life creatively. The creative place where no one else has ever been.—Alan Alda\",\n",
    "    \"The secret of getting ahead is getting started.—Mark Twain\",\n",
    ")\n",
    "\n",
    "quote = random.choice(quotes).split(\"—\")\n",
    "\n",
    "print(f'{quote[1]} said: {quote[0]}')"
   ]
  },
  {
   "cell_type": "markdown",
   "metadata": {},
   "source": [
    "Line splitting may be used often when we cannot control the data source. Here is the pros and cons of using string splitting:\n",
    "\n",
    "Pros:\n",
    "\n",
    "- Simple data structure\n",
    "\n",
    "Cons:\n",
    "\n",
    "- Separating the columns relies on the content. If there is more than one dash in the string, the logic breaks.\n",
    "\n"
   ]
  },
  {
   "cell_type": "code",
   "execution_count": 2,
   "metadata": {},
   "outputs": [
    {
     "data": {
      "text/plain": [
       "77"
      ]
     },
     "execution_count": 2,
     "metadata": {},
     "output_type": "execute_result"
    }
   ],
   "source": [
    "import random\n",
    "from random import randrange\n",
    "round(random.random()*10)\n",
    "random.randint(1,100)\n",
    "randrange(100)"
   ]
  },
  {
   "cell_type": "code",
   "execution_count": 111,
   "metadata": {},
   "outputs": [
    {
     "name": "stdout",
     "output_type": "stream",
     "text": [
      "Enter your name1\n",
      "Enter your student number1\n",
      "question:1\n",
      "4+48\n",
      "question:2\n",
      "3+36\n",
      "question:3\n",
      "1+12\n",
      "question:4\n",
      "2+24\n",
      "you did great\n",
      "you get 100.0 points\n"
     ]
    }
   ],
   "source": [
    "import random\n",
    "\n",
    "name = input(\"Enter your name\")\n",
    "student_number = input(\"Enter your student number\")\n",
    "question_list = [\"1+1\",\"2+2\",\"3+3\",\"4+4\"]\n",
    "answer_list = [\"2\",\"4\",\"6\",\"8\"]\n",
    "question_number = [\"1\",\"2\",\"3\",\"4\"]\n",
    "list = []\n",
    "points = 0\n",
    "\n",
    "while len(list) < 4:\n",
    "    r = random.randint(0,3)\n",
    "    if r not in list:\n",
    "        list.append(r)\n",
    "\n",
    "for j in range(4):\n",
    "    question = question_number[j]\n",
    "    print(f\"question:{question}\")\n",
    "    value = input(question_list[list[j]])\n",
    "    answer = (answer_list[list[j]])\n",
    "   \n",
    "    if answer == value:\n",
    "        points = points + (100/len(list))\n",
    "\n",
    "if points <= 50:\n",
    "    print(f\"better luck next time\")\n",
    "elif points <=80:\n",
    "    print(f\"still got things to learn\")\n",
    "elif points <=100:\n",
    "    print(f\"you did great\")\n",
    "    \n",
    "print(f\"you get {points} points\")\n",
    "    \n",
    "    "
   ]
  },
  {
   "cell_type": "markdown",
   "metadata": {},
   "source": [
    "## Aside: Joining string together\n",
    "\n",
    "We can split string by using `split`. On the other hand, we can merge a list "
   ]
  },
  {
   "cell_type": "code",
   "execution_count": 69,
   "metadata": {},
   "outputs": [
    {
     "data": {
      "text/plain": [
       "['Steven said', 'Hello World']"
      ]
     },
     "execution_count": 69,
     "metadata": {},
     "output_type": "execute_result"
    }
   ],
   "source": [
    "string = \"Steven said: Hello World\"\n",
    "\n",
    "string.split(\": \")"
   ]
  },
  {
   "cell_type": "code",
   "execution_count": 1,
   "metadata": {},
   "outputs": [
    {
     "data": {
      "text/plain": [
       "'Steven said: Hello World'"
      ]
     },
     "execution_count": 1,
     "metadata": {},
     "output_type": "execute_result"
    }
   ],
   "source": [
    "sample_list = ['Steven said', 'Hello World']\n",
    "\n",
    "\": \".join(sample_list)"
   ]
  },
  {
   "cell_type": "markdown",
   "metadata": {},
   "source": [
    "## Nested list/tuple"
   ]
  },
  {
   "cell_type": "code",
   "execution_count": 3,
   "metadata": {},
   "outputs": [
    {
     "name": "stdout",
     "output_type": "stream",
     "text": [
      "Edith Wharton said: There are two ways of spreading light: to be the candle or the mirror that reflects it.\n"
     ]
    }
   ],
   "source": [
    "import random\n",
    "\n",
    "\n",
    "quotes = (\n",
    "            (\"I want to put a ding in the universe.\", \"Steve Jobs\"),\n",
    "            (\"Life is 10% what happens to you and 90% how you react to it.\", \"Charles R. Swindoll\"),\n",
    "            (\"Family is not an important thing. It's everything.\", \"Michael J. Fox\"),\n",
    "            (\"Nothing is impossible, the word itself says 'I'm possible'!\", \"Audrey Hepburn\"),\n",
    "            (\"There are two ways of spreading light: to be the candle or the mirror that reflects it.\", \"Edith Wharton\"),\n",
    "            (\"Try to be a rainbow in someone's cloud.\", \"Maya Angelou\"),\n",
    "            (\"Be brave enough to live life creatively. The creative place where no one else has ever been.\", \"Alan Alda\"),\n",
    "            (\"The secret of getting ahead is getting started.\", \"Mark Twain\"),\n",
    "        )\n",
    "\n",
    "quote = random.choice(quotes)\n",
    "\n",
    "print(f'{quote[1]} said: {quote[0]}')"
   ]
  },
  {
   "cell_type": "markdown",
   "metadata": {},
   "source": [
    "Pros and cons of nested list\n",
    "\n",
    "Pros:\n",
    "\n",
    "- We often meet this format when reading CSV or tabular data from external sources/files.\n",
    "- Quite easy to use\n",
    "- Separation not related to the content.\n",
    "\n",
    "Cons:\n",
    "\n",
    "- Correctness depends on the order of the list items."
   ]
  },
  {
   "cell_type": "markdown",
   "metadata": {},
   "source": [
    "## Using Dictionary"
   ]
  },
  {
   "cell_type": "code",
   "execution_count": 2,
   "metadata": {
    "scrolled": true
   },
   "outputs": [
    {
     "name": "stdout",
     "output_type": "stream",
     "text": [
      "Alan Alda said: Be brave enough to live life creatively. The creative place where no one else has ever been.\n"
     ]
    }
   ],
   "source": [
    "import random\n",
    "\n",
    "quotes = (\n",
    "    {\"quote\":\"I want to put a ding in the universe.\", \"source\":\"Steve Jobs\"},\n",
    "    {\"quote\":\"Life is 10% what happens to you and 90% how you react to it.\", \"source\":\"Charles R. Swindoll\"},\n",
    "    {\"quote\":\"Family is not an important thing. It's everything.\", \"source\":\"Michael J. Fox\"},\n",
    "    {\"quote\":\"Nothing is impossible, the word itself says 'I'm possible'!\", \"source\":\"Audrey Hepburn\"},\n",
    "    {\"quote\":\"There are two ways of spreading light: to be the candle or the mirror that reflects it.\", \"source\":\"Edith Wharton\"},\n",
    "    {\"quote\":\"Try to be a rainbow in someone's cloud.\", \"source\":\"Maya Angelou\"},\n",
    "    {\"quote\":\"Be brave enough to live life creatively. The creative place where no one else has ever been.\", \"source\":\"Alan Alda\"},\n",
    "    {\"quote\":\"The secret of getting ahead is getting started.\", \"source\":\"Mark Twain\"},\n",
    ")\n",
    "\n",
    "quote = random.choice(quotes)\n",
    "content = quote[\"quote\"]\n",
    "source = quote[\"source\"]\n",
    "\n",
    "print(f'{source} said: {content}')"
   ]
  },
  {
   "cell_type": "markdown",
   "metadata": {},
   "source": [
    "Pros and cons of using dictionary:\n",
    "\n",
    "Pros:\n",
    "\n",
    "- Using key instead of order to improve code readability\n",
    "- Easier to maintain\n",
    "\n",
    "Cons:\n",
    "\n",
    "- A typo in the key may causes error that is not easily identifiable.\n",
    "\n"
   ]
  },
  {
   "cell_type": "markdown",
   "metadata": {},
   "source": [
    "A key typo can result in error."
   ]
  },
  {
   "cell_type": "code",
   "execution_count": 3,
   "metadata": {},
   "outputs": [
    {
     "ename": "KeyError",
     "evalue": "'sooooource'",
     "output_type": "error",
     "traceback": [
      "\u001b[0;31m---------------------------------------------------------------------------\u001b[0m",
      "\u001b[0;31mKeyError\u001b[0m                                  Traceback (most recent call last)",
      "\u001b[0;32m<ipython-input-3-9197b19c2227>\u001b[0m in \u001b[0;36m<module>\u001b[0;34m\u001b[0m\n\u001b[0;32m----> 1\u001b[0;31m \u001b[0mquote\u001b[0m\u001b[0;34m[\u001b[0m\u001b[0;34m\"sooooource\"\u001b[0m\u001b[0;34m]\u001b[0m\u001b[0;34m\u001b[0m\u001b[0;34m\u001b[0m\u001b[0m\n\u001b[0m",
      "\u001b[0;31mKeyError\u001b[0m: 'sooooource'"
     ]
    }
   ],
   "source": [
    "quote[\"sooooource\"]"
   ]
  },
  {
   "cell_type": "markdown",
   "metadata": {},
   "source": [
    "We may avoid key error by using `.get`. But it still does not prevent typo defined from source."
   ]
  },
  {
   "cell_type": "code",
   "execution_count": 4,
   "metadata": {},
   "outputs": [
    {
     "data": {
      "text/plain": [
       "'Alan Alda'"
      ]
     },
     "execution_count": 4,
     "metadata": {},
     "output_type": "execute_result"
    }
   ],
   "source": [
    "quote.get(\"source\")"
   ]
  },
  {
   "cell_type": "code",
   "execution_count": 7,
   "metadata": {},
   "outputs": [
    {
     "data": {
      "text/plain": [
       "'Not found'"
      ]
     },
     "execution_count": 7,
     "metadata": {},
     "output_type": "execute_result"
    }
   ],
   "source": [
    "quote.get(\"soooource\", \"Not found\")"
   ]
  },
  {
   "cell_type": "markdown",
   "metadata": {},
   "source": [
    "## Using namedtuple"
   ]
  },
  {
   "cell_type": "code",
   "execution_count": 5,
   "metadata": {},
   "outputs": [
    {
     "name": "stdout",
     "output_type": "stream",
     "text": [
      "Alan Alda said: Be brave enough to live life creatively. The creative place where no one else has ever been.\n"
     ]
    }
   ],
   "source": [
    "import random\n",
    "from collections import namedtuple\n",
    "\n",
    "Quote = namedtuple(\"Quote\", \"content, source\")\n",
    "\n",
    "quotes = (\n",
    "    Quote(content=\"I want to put a ding in the universe.\", source=\"Steve Jobs\"),\n",
    "    Quote(content=\"Life is 10% what happens to you and 90% how you react to it.\", source=\"Charles R. Swindoll\"),\n",
    "    Quote(content=\"Family is not an important thing. It's everything.\", source=\"Michael J. Fox\"),\n",
    "    Quote(content=\"Nothing is impossible, the word itself says 'I'm possible'!\", source=\"Audrey Hepburn\"),\n",
    "    Quote(content=\"There are two ways of spreading light: to be the candle or the mirror that reflects it.\", source=\"Edith Wharton\"),\n",
    "    Quote(content=\"Try to be a rainbow in someone's cloud.\", source=\"Maya Angelou\"),\n",
    "    Quote(content=\"Be brave enough to live life creatively. The creative place where no one else has ever been.\", source=\"Alan Alda\"),\n",
    "    Quote(content=\"The secret of getting ahead is getting started.\", source=\"Mark Twain\"),\n",
    ")\n",
    "\n",
    "quote = random.choice(quotes)\n",
    "print(f'{quote.source} said: {quote.content}')"
   ]
  },
  {
   "cell_type": "markdown",
   "metadata": {},
   "source": [
    "Pros and cons of using namedtuple\n",
    "\n",
    "Pros\n",
    "\n",
    "- The column named is pre-defined, so the usage is predictable.\n",
    "- Typos will raise error at runtime, so it is easy to be identifiable.\n",
    "- Using column name instead of order to improve code readability\n",
    "\n",
    "Cons\n",
    "\n",
    "- Less flexible than the previous solutions"
   ]
  },
  {
   "cell_type": "markdown",
   "metadata": {},
   "source": [
    "## ❓Pop Quiz"
   ]
  },
  {
   "cell_type": "markdown",
   "metadata": {},
   "source": [
    "Question 1: Assuming now we want to store a list of names. Just names and nothing else. We may need to expand the list later. Which data structure shall we use?\n",
    "\n",
    "1. tuple\n",
    "2. list\n",
    "3. dictionary\n",
    "4. namedtuple\n",
    "\n",
    "Question 2: Assuming now we want to store a list of student records. Each record contains first name, last name, and email. Which data structure shall we use?\n",
    "\n",
    "1. tuple\n",
    "2. dictionary\n",
    "3. list of strings\n",
    "4. list of dictionaries\n"
   ]
  },
  {
   "cell_type": "markdown",
   "metadata": {},
   "source": [
    "## Summary\n",
    "\n",
    "In this section, we explored different way to store multi-columns data. It includes:\n",
    "\n",
    "- List/tuple\n",
    "- Nested list/tuple\n",
    "- Dictionary\n",
    "- namedtuple\n",
    "\n",
    "In future, we will further use pandas DataFrame and reading data from CSV and Excel for tabular data."
   ]
  }
 ],
 "metadata": {
  "kernelspec": {
   "display_name": "Python 3",
   "language": "python",
   "name": "python3"
  },
  "language_info": {
   "codemirror_mode": {
    "name": "ipython",
    "version": 3
   },
   "file_extension": ".py",
   "mimetype": "text/x-python",
   "name": "python",
   "nbconvert_exporter": "python",
   "pygments_lexer": "ipython3",
   "version": "3.7.6"
  }
 },
 "nbformat": 4,
 "nbformat_minor": 2
}
