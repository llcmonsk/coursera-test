{
 "cells": [
  {
   "cell_type": "markdown",
   "metadata": {},
   "source": [
    "# Lecture 6—Fetching data online"
   ]
  },
  {
   "cell_type": "markdown",
   "metadata": {},
   "source": [
    "Version 1.0, by [Makzan](https://makzan.net). Last updated 2021 March."
   ]
  },
  {
   "cell_type": "markdown",
   "metadata": {},
   "source": [
    "In this series, we will use 3 lectures to learn fetching data online. This includes:\n",
    "\n",
    "- **Finding patterns in URL**\n",
    "- **Open web URL**\n",
    "- **Downloading files in Python**\n",
    "- **Fetch data with API**\n",
    "- Web scraping with Requests and BeautifulSoup\n",
    "- Web automation with Selenium\n",
    "- Converting Wikipedia tabular data into CSV"
   ]
  },
  {
   "cell_type": "markdown",
   "metadata": {},
   "source": [
    "## Finding patterns in URL"
   ]
  },
  {
   "cell_type": "markdown",
   "metadata": {},
   "source": [
    "\n",
    "We need to know the URL In order to download files, or web scrap a web page. Usually it is finding the variable patterns in URL.\n",
    "Edit\n",
    "For example, from the following URL, we can find the pattern of the search query.\n",
    "\n",
    "\n",
    "- https://docs.python.org/3/search.html?q=namedtuple&check_keywords=yes&area=default\n",
    "- https://duckduckgo.com/?q=python+doc\n",
    "- https://www.google.com/maps/search/Libraries/@22.1612464,113.5303786,13z\n",
    "- http://macaodaily.com/html/2020-05/04/node_2.htm\n",
    "- http://www.dicj.gov.mo/web/cn/information/DadosEstat_mensal/2020/index.html\n",
    "- https://bis.dsat.gov.mo:37812/macauweb/routeLine.html?routeName=3&direction=0&language=zh-tw&ver=3.5.12"
   ]
  },
  {
   "cell_type": "markdown",
   "metadata": {},
   "source": [
    "Let’s take a closer look at DSAT.gov.mo bus route page. If we can the bus routes, we can observe that the page URL doesn’t change. There may be 2 reasons:\n",
    "\n",
    "1. The page changes are generated via JavaScript rendering.\n",
    "2. The page is inside an iframe so that page changes do not change the top-level URL.\n",
    "\n",
    "\n",
    "If it is the first reason, we will need a more advanced browser driver technique. If it is the second reason, we can get the URL by opening the link in a new tab, or simply copying the link location via right-click.\n",
    "\n",
    "Now we can observe the URL for each route has the following pattern.\n",
    "\n",
    "https://bis.dsat.gov.mo:37812/macauweb/routeLine.html?routeName=3&direction=0&language=zh-tw&ver=3.5.12\n",
    "\n",
    "![](dsat-bus.png)"
   ]
  },
  {
   "cell_type": "code",
   "execution_count": 21,
   "metadata": {},
   "outputs": [
    {
     "name": "stdout",
     "output_type": "stream",
     "text": [
      "2019\n"
     ]
    }
   ],
   "source": [
    "import datetime\n",
    "\n",
    "year = datetime.datetime.now().year - 2\n",
    "print(year)"
   ]
  },
  {
   "cell_type": "code",
   "execution_count": null,
   "metadata": {},
   "outputs": [],
   "source": [
    "https://bis.dsat.gov.mo:37812/macauweb/routeLine.html?routeName={bus_number}&direction={direction}&language=zh-tw&ver=3.6.7"
   ]
  },
  {
   "cell_type": "markdown",
   "metadata": {},
   "source": [
    "Take DICJ.gov.mo example, the URL is:\n",
    "\n",
    "http://www.dicj.gov.mo/web/cn/information/DadosEstat_mensal/2020/index.html\n",
    "\n",
    "If we inspect the network requests, we can find the behind-the-scene XML URL:\n",
    "\n",
    "http://www.dicj.gov.mo/web/cn/information/DadosEstat_mensal/2020/report_cn.xml?id=10\n",
    "\n",
    "![](dicj.png)"
   ]
  },
  {
   "cell_type": "markdown",
   "metadata": {},
   "source": [
    "## Example: Web Search Python Documentation Site"
   ]
  },
  {
   "cell_type": "markdown",
   "metadata": {},
   "source": [
    "Sometimes, we can speed up our daily operation just by automatically opening the URL that we need. We can use `webbrowser` to do so.\n",
    "\n"
   ]
  },
  {
   "cell_type": "code",
   "execution_count": 32,
   "metadata": {
    "scrolled": true
   },
   "outputs": [
    {
     "name": "stdout",
     "output_type": "stream",
     "text": [
      "what do you wanna searchd\n"
     ]
    },
    {
     "data": {
      "text/plain": [
       "True"
      ]
     },
     "execution_count": 32,
     "metadata": {},
     "output_type": "execute_result"
    }
   ],
   "source": [
    "import webbrowser\n",
    "\n",
    "query =input(\"what do you wanna search\")\n",
    "\n",
    "url = f\"https://docs.python.org/3/search.html?q={query}&check_keywords=yes&area=default\"\n",
    "\n",
    "webbrowser.open(url)\n"
   ]
  },
  {
   "cell_type": "markdown",
   "metadata": {},
   "source": [
    "**✏️ Exercise Time**\n",
    "    \n",
    "Please try to turn the query into an input asking for the search query:"
   ]
  },
  {
   "cell_type": "code",
   "execution_count": 43,
   "metadata": {},
   "outputs": [
    {
     "name": "stdout",
     "output_type": "stream",
     "text": [
      "which pokemon do you wanna searchabra\n"
     ]
    },
    {
     "data": {
      "text/plain": [
       "True"
      ]
     },
     "execution_count": 43,
     "metadata": {},
     "output_type": "execute_result"
    }
   ],
   "source": [
    "import webbrowser\n",
    "\n",
    "### Start writing your code here\n",
    "pokemon = input(\"which pokemon do you wanna search\")\n",
    "\n",
    "url = f\"https://pokemondb.net/pokedex/{pokemon}\"\n",
    "\n",
    "### End writing your code\n",
    "\n",
    "webbrowser.open(url)\n"
   ]
  },
  {
   "cell_type": "markdown",
   "metadata": {},
   "source": [
    "|Expected question to ask|\n",
    "|---|\n",
    "|Please input search query to search Python doc: |"
   ]
  },
  {
   "cell_type": "markdown",
   "metadata": {},
   "source": [
    "## Example: Searching DuckDuckGo search engine\n",
    "\n",
    "DuckDuckGo search engine allows going to the first search result by adding an exclamation mark (!) in the query string. We will use this feature to create a Python script.\n"
   ]
  },
  {
   "cell_type": "code",
   "execution_count": 130,
   "metadata": {
    "scrolled": true
   },
   "outputs": [
    {
     "data": {
      "text/plain": [
       "True"
      ]
     },
     "execution_count": 130,
     "metadata": {},
     "output_type": "execute_result"
    }
   ],
   "source": [
    "import webbrowser\n",
    "\n",
    "query = \"Python history\"\n",
    "\n",
    "url = f\"https://duckduckgo.com?q=!+{query}\"\n",
    "\n",
    "webbrowser.open(url)"
   ]
  },
  {
   "cell_type": "markdown",
   "metadata": {},
   "source": [
    "**✏️ Exercise Time**\n",
    "\n",
    "Please try to turn the query into an input asking for the search query:"
   ]
  },
  {
   "cell_type": "code",
   "execution_count": 129,
   "metadata": {},
   "outputs": [
    {
     "data": {
      "text/plain": [
       "True"
      ]
     },
     "execution_count": 129,
     "metadata": {},
     "output_type": "execute_result"
    }
   ],
   "source": [
    "import webbrowser\n",
    "\n",
    "### Start writing your code here\n",
    "None\n",
    "### End writing your code\n",
    "\n",
    "webbrowser.open(url)"
   ]
  },
  {
   "cell_type": "markdown",
   "metadata": {},
   "source": [
    "|Expected question to ask|\n",
    "|---|\n",
    "|Please input search query : |"
   ]
  },
  {
   "cell_type": "markdown",
   "metadata": {},
   "source": [
    "## Example: Google map search near Macao"
   ]
  },
  {
   "cell_type": "code",
   "execution_count": 26,
   "metadata": {
    "scrolled": true
   },
   "outputs": [
    {
     "name": "stdout",
     "output_type": "stream",
     "text": [
      "what do you wanna find in macaueat\n"
     ]
    },
    {
     "data": {
      "text/plain": [
       "True"
      ]
     },
     "execution_count": 26,
     "metadata": {},
     "output_type": "execute_result"
    }
   ],
   "source": [
    "import webbrowser\n",
    "\n",
    "query = input(\"what do you wanna find in macau\")\n",
    "\n",
    "# A map search in Macao.\n",
    "url = f\"https://www.google.com/maps/search/{query}/@22.1612464,113.5303786,13z\"\n",
    "\n",
    "webbrowser.open(url)"
   ]
  },
  {
   "cell_type": "markdown",
   "metadata": {},
   "source": [
    "![](google-map-result.png)"
   ]
  },
  {
   "cell_type": "markdown",
   "metadata": {},
   "source": [
    "**✏️ Exercise Time**\n",
    "\n",
    "Try to turn the map location into Shanghai."
   ]
  },
  {
   "cell_type": "code",
   "execution_count": 29,
   "metadata": {},
   "outputs": [
    {
     "name": "stdout",
     "output_type": "stream",
     "text": [
      "what do you wanna find in tokyopokemon\n"
     ]
    },
    {
     "data": {
      "text/plain": [
       "True"
      ]
     },
     "execution_count": 29,
     "metadata": {},
     "output_type": "execute_result"
    }
   ],
   "source": [
    "import webbrowser\n",
    "\n",
    "query = input(\"what do you wanna find in tokyo\")\n",
    "\n",
    "# Start writing your code here\n",
    "latitude = 35.5090627\n",
    "longitude = 139.209383\n",
    "zoom_level = 8\n",
    "url = f\"https://www.google.com/maps/search/{query}/@{latitude},{longitude},{zoom_level}z\"\n",
    "\n",
    "webbrowser.open(url)"
   ]
  },
  {
   "cell_type": "markdown",
   "metadata": {},
   "source": [
    "## URL for iOS apps\n",
    "\n",
    "\n",
    "In iOS, we can use x-callback-url to interact with apps in iOS by using Python and Pythonista.\n",
    "\n",
    "There are web site that collects x-callback-url for iOS apps:\n",
    "\n",
    "http://x-callback-url.com/apps/\n",
    "\n",
    "For example, Things—A tasks manager—provides x-callback-url API:\n",
    "\n",
    "https://culturedcode.com/things/support/articles/2803573/\n",
    "\n",
    "Another example that Bear—notes taking iOS app—provides x-callback-url API too.\n",
    "\n",
    "https://bear.app/faq/X-callback-url%20Scheme%20documentation/\n"
   ]
  },
  {
   "cell_type": "code",
   "execution_count": null,
   "metadata": {},
   "outputs": [],
   "source": []
  },
  {
   "cell_type": "markdown",
   "metadata": {},
   "source": [
    "## Downloading files\n",
    "\n",
    "We can use `urlretrieve` from `urllib.request` module to download file.\n",
    "\n",
    "For example, we can download geckdriver.zip file from their Github repository with the following code."
   ]
  },
  {
   "cell_type": "code",
   "execution_count": 7,
   "metadata": {},
   "outputs": [
    {
     "name": "stdout",
     "output_type": "stream",
     "text": [
      "('chromedriver.zip', <http.client.HTTPMessage object at 0x1091cd350>)\n"
     ]
    }
   ],
   "source": [
    "'''Download chart from AAStock server with given stock numbers.'''\n",
    "\n",
    "from urllib.request import urlretrieve\n",
    "\n",
    "stock_numbers = ['0001','0005','0011','0700','3333','0002','0012']\n",
    "\n",
    "for stock_number in stock_numbers:\n",
    "    url = \"http://charts.aastocks.com/servlet/Charts?fontsize=12&15MinDelay=T&lang=1&titlestyle=1&vol=1&Indicator=1&indpara1=10&indpara2=20&indpara3=50&indpara4=100&indpara5=150&subChart1=2&ref1para1=14&ref1para2=0&ref1para3=0&subChart2=3&ref2para1=12&ref2para2=26&ref2para3=9&subChart3=12&ref3para1=0&ref3para2=0&ref3para3=0&scheme=3&com=100&chartwidth=660&chartheight=855&stockid=00{}.HK&period=6&type=1&logoStyle=1\".format(stock_number)\n",
    "    urlretrieve(url, '{}-chart.gif'.format(stock_number))"
   ]
  },
  {
   "cell_type": "markdown",
   "metadata": {},
   "source": [
    "# Fetching XML"
   ]
  },
  {
   "cell_type": "code",
   "execution_count": 44,
   "metadata": {},
   "outputs": [
    {
     "name": "stdout",
     "output_type": "stream",
     "text": [
      "Collecting untangle\n",
      "  Downloading https://files.pythonhosted.org/packages/f4/eb/a19a34858cd702b09524bd2ddb01c0d75a71f993a96aec8755a76e867911/untangle-1.1.1.tar.gz\n",
      "Building wheels for collected packages: untangle\n",
      "  Building wheel for untangle (setup.py): started\n",
      "  Building wheel for untangle (setup.py): finished with status 'done'\n",
      "  Stored in directory: C:\\Users\\cm540-02-2021-c\\AppData\\Local\\pip\\Cache\\wheels\\16\\18\\ff\\b217dc66c822e07c274599310ba25ffce62cda02fc1c0bdca2\n",
      "Successfully built untangle\n",
      "Installing collected packages: untangle\n",
      "Successfully installed untangle-1.1.1\n",
      "Note: you may need to restart the kernel to use updated packages.\n"
     ]
    }
   ],
   "source": [
    "pip install untangle"
   ]
  },
  {
   "cell_type": "markdown",
   "metadata": {},
   "source": [
    "## Example: SMG.gov.mo\n",
    "\n",
    "xml.smg.gov.mo\n",
    "\n",
    "![](xml.smg.gov.mo.png)"
   ]
  },
  {
   "cell_type": "code",
   "execution_count": 55,
   "metadata": {},
   "outputs": [
    {
     "ename": "AttributeError",
     "evalue": "'list' object has no attribute 'Value'",
     "output_type": "error",
     "traceback": [
      "\u001b[1;31m---------------------------------------------------------------------------\u001b[0m",
      "\u001b[1;31mAttributeError\u001b[0m                            Traceback (most recent call last)",
      "\u001b[1;32m<ipython-input-55-eb3395e3aa57>\u001b[0m in \u001b[0;36m<module>\u001b[1;34m\u001b[0m\n\u001b[0;32m      4\u001b[0m \u001b[0mobj\u001b[0m \u001b[1;33m=\u001b[0m \u001b[0muntangle\u001b[0m\u001b[1;33m.\u001b[0m\u001b[0mparse\u001b[0m\u001b[1;33m(\u001b[0m\u001b[1;34m'https://xml.smg.gov.mo/c_actual_brief.xml'\u001b[0m\u001b[1;33m)\u001b[0m\u001b[1;33m\u001b[0m\u001b[1;33m\u001b[0m\u001b[0m\n\u001b[0;32m      5\u001b[0m \u001b[1;33m\u001b[0m\u001b[0m\n\u001b[1;32m----> 6\u001b[1;33m \u001b[0mtemperature\u001b[0m \u001b[1;33m=\u001b[0m \u001b[0mobj\u001b[0m\u001b[1;33m.\u001b[0m\u001b[0mActualWeatherBrief\u001b[0m\u001b[1;33m.\u001b[0m\u001b[0mCustom\u001b[0m\u001b[1;33m.\u001b[0m\u001b[0mTemperature\u001b[0m\u001b[1;33m.\u001b[0m\u001b[0mValue\u001b[0m\u001b[1;33m.\u001b[0m\u001b[0mcdata\u001b[0m\u001b[1;33m\u001b[0m\u001b[1;33m\u001b[0m\u001b[0m\n\u001b[0m\u001b[0;32m      7\u001b[0m \u001b[0mhumidity\u001b[0m \u001b[1;33m=\u001b[0m \u001b[0mobj\u001b[0m\u001b[1;33m.\u001b[0m\u001b[0mActualWeatherBrief\u001b[0m\u001b[1;33m.\u001b[0m\u001b[0mCustom\u001b[0m\u001b[1;33m.\u001b[0m\u001b[0mHumidity\u001b[0m\u001b[1;33m.\u001b[0m\u001b[0mValue\u001b[0m\u001b[1;33m.\u001b[0m\u001b[0mcdata\u001b[0m\u001b[1;33m\u001b[0m\u001b[1;33m\u001b[0m\u001b[0m\n\u001b[0;32m      8\u001b[0m \u001b[1;33m\u001b[0m\u001b[0m\n",
      "\u001b[1;31mAttributeError\u001b[0m: 'list' object has no attribute 'Value'"
     ]
    }
   ],
   "source": [
    "import untangle\n",
    "import datetime\n",
    "\n",
    "obj = untangle.parse('https://xml.smg.gov.mo/c_actual_brief.xml')\n",
    "\n",
    "temperature = obj.ActualWeatherBrief.Custom.Temperature.Value.cdata\n",
    "humidity = obj.ActualWeatherBrief.Custom.Humidity.Value.cdata\n",
    "\n",
    "print(\"現時澳門氣溫 \" + temperature + \" 度，濕度 \" + humidity + \"%。\")\n",
    "\n"
   ]
  },
  {
   "cell_type": "markdown",
   "metadata": {},
   "source": [
    "There may be error when running the code above, depending on how many \"Temperature\" data are there from SMG.gov.mo.\n",
    "\n",
    "If there are only one `Temperature` data, it is a direct access. If there are more than one `Temperature` data, it becomes a list. We can determine if it is a list by checking `type(target) == list`."
   ]
  },
  {
   "cell_type": "code",
   "execution_count": 46,
   "metadata": {},
   "outputs": [
    {
     "data": {
      "text/plain": [
       "True"
      ]
     },
     "execution_count": 46,
     "metadata": {},
     "output_type": "execute_result"
    }
   ],
   "source": [
    "type([]) == list"
   ]
  },
  {
   "cell_type": "code",
   "execution_count": 56,
   "metadata": {},
   "outputs": [
    {
     "name": "stdout",
     "output_type": "stream",
     "text": [
      "現時澳門氣溫 20 度，濕度 85%。\n"
     ]
    }
   ],
   "source": [
    "import untangle\n",
    "import datetime\n",
    "\n",
    "obj = untangle.parse('https://xml.smg.gov.mo/c_actual_brief.xml')\n",
    "\n",
    "humidity = obj.ActualWeatherBrief.Custom.Humidity.Value.cdata\n",
    "\n",
    "if type(obj.ActualWeatherBrief.Custom.Temperature) == list:\n",
    "    temperature = obj.ActualWeatherBrief.Custom.Temperature[0].Value.cdata\n",
    "else:\n",
    "    temperature = obj.ActualWeatherBrief.Custom.Temperature.Value.cdata\n",
    "\n",
    "\n",
    "print(\"現時澳門氣溫 \" + temperature + \" 度，濕度 \" + humidity + \"%。\")\n",
    "\n"
   ]
  },
  {
   "cell_type": "code",
   "execution_count": 74,
   "metadata": {},
   "outputs": [
    {
     "name": "stdout",
     "output_type": "stream",
     "text": [
      "time 2021-03-11 21:17:32.580201 temperature 20C humidity 87% max temp 23C min temp 18C\n"
     ]
    }
   ],
   "source": [
    "import untangle\n",
    "import datetime\n",
    "\n",
    "obj = untangle.parse('https://xml.smg.gov.mo/c_actual_brief.xml')\n",
    "\n",
    "today = datetime.datetime.now()\n",
    "\n",
    "humidity = obj.ActualWeatherBrief.Custom.Humidity.Value.cdata\n",
    "\n",
    "if type(obj.ActualWeatherBrief.Custom.Temperature) == list:\n",
    "    temperature = obj.ActualWeatherBrief.Custom.Temperature[0].Value.cdata\n",
    "else:\n",
    "    temperature = obj.ActualWeatherBrief.Custom.Temperature.Value.cdata\n",
    "\n",
    "max_temp = obj.ActualWeatherBrief.Custom.Temperature[1].Value.cdata\n",
    "\n",
    "min_temp = obj.ActualWeatherBrief.Custom.Temperature[2].Value.cdata\n",
    "\n",
    "print(f'time {today} temperature {temperature}C humidity {humidity}% max temp {max_temp}C min temp {min_temp}C')"
   ]
  },
  {
   "cell_type": "code",
   "execution_count": 106,
   "metadata": {},
   "outputs": [
    {
     "name": "stdout",
     "output_type": "stream",
     "text": [
      "2021-03-11 21:46:41.099612\n",
      "壹股偏東氣流正影響本澳天氣。大致多雲。\n",
      "吹2至3級東至東南風。\n",
      "range(0, 30)\n"
     ]
    }
   ],
   "source": [
    "import untangle\n",
    "import datetime\n",
    "\n",
    "obj = untangle.parse('https://xml.smg.gov.mo/c_forecast.xml')\n",
    "\n",
    "today = datetime.datetime.now()\n",
    "\n",
    "today_situation = obj.ActualForecast.Custom.TodaySituation.cdata\n",
    "\n",
    "weather_des = obj.ActualForecast.Custom.WeatherForecast[0].WeatherDescription.cdata\n",
    "\n",
    "print(f'{today}\\n{today_situation}{weather_des}')"
   ]
  },
  {
   "cell_type": "code",
   "execution_count": 105,
   "metadata": {},
   "outputs": [
    {
     "name": "stdout",
     "output_type": "stream",
     "text": [
      "01\n",
      "五 max 26°C min 19°C 天晴，部份時間多雲。吹2至3級偏東風。\n",
      "六 max 24°C min 19°C 多雲，部份時間有陽光。吹3至4級偏東風。\n",
      "日 max 25°C min 20°C 多雲，部份時間有陽光。吹3至4級東至東南風。\n",
      "一 max 25°C min 21°C 多雲，短暫時間有陽光。吹3至4級東至東南風。\n",
      "二 max 26°C min 21°C 多雲，部份時間有陽光。早上有薄霧。吹2至4級東至東南風。\n",
      "三 max 25°C min 21°C 多雲，短暫時間有陽光。早晚有薄霧。吹2至3級東南風。\n",
      "四 max 26°C min 22°C 多雲，短暫時間有陽光。早晚有薄霧。吹2至3級南至東南風。\n"
     ]
    }
   ],
   "source": [
    "import untangle\n",
    "import datetime\n",
    "\n",
    "obj = untangle.parse('https://xml.smg.gov.mo/c_7daysforecast.xml')\n",
    "\n",
    "dir(obj.SevenDaysForecast.Custom)\n",
    "\n",
    "forecast_list = obj.SevenDaysForecast.Custom.WeatherForecast\n",
    "\n",
    "des_list = [{'code':'01','des':'天晴'}]\n",
    "\n",
    "for i in range(30):\n",
    "    if des_list[i]['code'] == forecast.WeatherForecast.WeatherStatus:\n",
    "        weather_des = des_list[i]['des']\n",
    "\n",
    "for forecast in forecast_list:\n",
    "    day = forecast.c_DayOfWeek.cdata\n",
    "    temperture_max = forecast.Temperature[0].Value.cdata\n",
    "    temperture_min = forecast.Temperature[1].Value.cdata\n",
    "    des = forecast.WeatherDescription.cdata\n",
    "    print(f'{day} max {temperture_max}°C min {temperture_min}°C {des}')\n",
    "    "
   ]
  },
  {
   "cell_type": "markdown",
   "metadata": {},
   "source": [
    "## Example: 博彩月計毛收入\n",
    "\n",
    "http://www.dicj.gov.mo/web/cn/information/DadosEstat_mensal/index.html"
   ]
  },
  {
   "cell_type": "code",
   "execution_count": 81,
   "metadata": {
    "scrolled": true
   },
   "outputs": [
    {
     "name": "stdout",
     "output_type": "stream",
     "text": [
      "2020 年 5 月份 毛收入 1,764 (2019:25,952), -93.2%\n",
      "2020 年 5 月份 累計毛收入 33,004 (2019:125,691), -73.7%\n"
     ]
    }
   ],
   "source": [
    "import untangle\n",
    "import datetime\n",
    "\n",
    "year = datetime.date.today().year\n",
    "\n",
    "# list begins at 0, and we look for previous month.\n",
    "month = datetime.date.today().month -1 -1\n",
    "\n",
    "if last_month < 0:\n",
    "    year = year - 1\n",
    "    last_month = 11 # list beings at 0.\n",
    "\n",
    "url = f\"http://www.dicj.gov.mo/web/cn/information/DadosEstat_mensal/{year}/report_cn.xml?id=8\"\n",
    "\n",
    "data = untangle.parse(url)\n",
    "\n",
    "month_data = data.STATISTICS.REPORT.DATA.RECORD[month]\n",
    "\n",
    "net_income = month_data.DATA[1].cdata\n",
    "last_net_income = month_data.DATA[2].cdata\n",
    "change_rate = month_data.DATA[3].cdata\n",
    "acc_net_income = month_data.DATA[4].cdata\n",
    "acc_last_net_income = month_data.DATA[5].cdata\n",
    "acc_change_rate = month_data.DATA[6].cdata\n",
    "\n",
    "print(f\"{year} 年 {month+1} 月份 毛收入 {net_income} ({year-1}:{last_net_income}), {change_rate}\")\n",
    "print(f\"{year} 年 {month+1} 月份 累計毛收入 {acc_net_income} ({year-1}:{acc_last_net_income}), {acc_change_rate}\")"
   ]
  },
  {
   "cell_type": "markdown",
   "metadata": {},
   "source": [
    "## 過去 12 個月博彩月計毛收入"
   ]
  },
  {
   "cell_type": "code",
   "execution_count": 82,
   "metadata": {},
   "outputs": [],
   "source": [
    "def fetch_and_print_dicj_year_month(year, month):\n",
    "    url = f\"http://www.dicj.gov.mo/web/cn/information/DadosEstat_mensal/{year}/report_cn.xml?id=8\"\n",
    "\n",
    "    data = untangle.parse(url)\n",
    "\n",
    "    month_data = data.STATISTICS.REPORT.DATA.RECORD[month]\n",
    "\n",
    "    net_income = month_data.DATA[1].cdata\n",
    "    last_net_income = month_data.DATA[2].cdata\n",
    "    change_rate = month_data.DATA[3].cdata\n",
    "    acc_net_income = month_data.DATA[4].cdata\n",
    "    acc_last_net_income = month_data.DATA[5].cdata\n",
    "    acc_change_rate = month_data.DATA[6].cdata\n",
    "\n",
    "    print(f\"{year} 年 {month+1}  月份 毛收入\\t {net_income} \\t ({year-1}:{last_net_income}), {change_rate}\")\n",
    "#     print(f\"{year} 年 {month+1} 累計毛收入\\t {acc_net_income}\\t ({year-1}:{acc_last_net_income}), {acc_change_rate}\")"
   ]
  },
  {
   "cell_type": "code",
   "execution_count": 83,
   "metadata": {},
   "outputs": [
    {
     "name": "stdout",
     "output_type": "stream",
     "text": [
      "2019 年 6  月份 毛收入\t 23,812 \t (2018:22,490), 5.9%\n",
      "2019 年 7  月份 毛收入\t 24,453 \t (2018:25,327), -3.5%\n",
      "2019 年 8  月份 毛收入\t 24,262 \t (2018:26,559), -8.6%\n",
      "2019 年 9  月份 毛收入\t 22,079 \t (2018:21,952), 0.6%\n",
      "2019 年 10  月份 毛收入\t 26,443 \t (2018:27,328), -3.2%\n",
      "2019 年 11  月份 毛收入\t 22,877 \t (2018:24,995), -8.5%\n",
      "2019 年 12  月份 毛收入\t 22,838 \t (2018:26,468), -13.7%\n",
      "2020 年 1  月份 毛收入\t 22,126 \t (2019:24,942), -11.3%\n",
      "2020 年 2  月份 毛收入\t 3,104 \t (2019:25,370), -87.8%\n",
      "2020 年 3  月份 毛收入\t 5,257 \t (2019:25,840), -79.7%\n",
      "2020 年 4  月份 毛收入\t 754 \t (2019:23,588), -96.8%\n",
      "2020 年 5  月份 毛收入\t 1,764 \t (2019:25,952), -93.2%\n"
     ]
    }
   ],
   "source": [
    "import untangle\n",
    "import datetime\n",
    "\n",
    "for i in range(-12,0):    \n",
    "    date = datetime.date.today() + datetime.timedelta(days=i*30)    \n",
    "    fetch_and_print_dicj_year_month(date.year, date.month-1)"
   ]
  },
  {
   "cell_type": "markdown",
   "metadata": {},
   "source": [
    "## Example: Exchange Rate API\n",
    "\n",
    "https://exchangeratesapi.io"
   ]
  },
  {
   "cell_type": "code",
   "execution_count": 48,
   "metadata": {},
   "outputs": [
    {
     "name": "stdout",
     "output_type": "stream",
     "text": [
      "what baseCNY\n",
      "what rateHKD\n",
      "2018-01-02\n",
      "2018-01-03\n",
      "2018-01-04\n",
      "2018-01-05\n",
      "2018-01-08\n",
      "2018-01-09\n",
      "2018-01-10\n",
      "2018-01-11\n",
      "2018-01-12\n",
      "2018-01-15\n",
      "2018-01-16\n",
      "2018-01-17\n",
      "2018-01-18\n",
      "2018-01-19\n",
      "2018-01-22\n",
      "2018-01-23\n",
      "2018-01-24\n",
      "2018-01-25\n",
      "2018-01-26\n",
      "2018-01-29\n",
      "2018-01-30\n",
      "2018-01-31\n",
      "2018-02-01\n",
      "2018-02-02\n",
      "2018-02-05\n",
      "2018-02-06\n",
      "2018-02-07\n",
      "2018-02-08\n",
      "2018-02-09\n",
      "2018-02-12\n",
      "2018-02-13\n",
      "2018-02-14\n",
      "2018-02-15\n",
      "2018-02-16\n",
      "2018-02-19\n",
      "2018-02-20\n",
      "2018-02-21\n",
      "2018-02-22\n",
      "2018-02-23\n",
      "2018-02-26\n",
      "2018-02-27\n",
      "2018-02-28\n",
      "2018-03-01\n",
      "2018-03-02\n",
      "2018-03-05\n",
      "2018-03-06\n",
      "2018-03-07\n",
      "2018-03-08\n",
      "2018-03-09\n",
      "2018-03-12\n",
      "2018-03-13\n",
      "2018-03-14\n",
      "2018-03-15\n",
      "2018-03-16\n",
      "2018-03-19\n",
      "2018-03-20\n",
      "2018-03-21\n",
      "2018-03-22\n",
      "2018-03-23\n",
      "2018-03-26\n",
      "2018-03-27\n",
      "2018-03-28\n",
      "2018-03-29\n",
      "2018-04-03\n",
      "2018-04-04\n",
      "2018-04-05\n",
      "2018-04-06\n",
      "2018-04-09\n",
      "2018-04-10\n",
      "2018-04-11\n",
      "2018-04-12\n",
      "2018-04-13\n",
      "2018-04-16\n",
      "2018-04-17\n",
      "2018-04-18\n",
      "2018-04-19\n",
      "2018-04-20\n",
      "2018-04-23\n",
      "2018-04-24\n",
      "2018-04-25\n",
      "2018-04-26\n",
      "2018-04-27\n",
      "2018-04-30\n",
      "2018-05-02\n",
      "2018-05-03\n",
      "2018-05-04\n",
      "2018-05-07\n",
      "2018-05-08\n",
      "2018-05-09\n",
      "2018-05-10\n",
      "2018-05-11\n",
      "2018-05-14\n",
      "2018-05-15\n",
      "2018-05-16\n",
      "2018-05-17\n",
      "2018-05-18\n",
      "2018-05-21\n",
      "2018-05-22\n",
      "2018-05-23\n",
      "2018-05-24\n",
      "2018-05-25\n",
      "2018-05-28\n",
      "2018-05-29\n",
      "2018-05-30\n",
      "2018-05-31\n",
      "2018-06-01\n",
      "2018-06-04\n",
      "2018-06-05\n",
      "2018-06-06\n",
      "2018-06-07\n",
      "2018-06-08\n",
      "2018-06-11\n",
      "2018-06-12\n",
      "2018-06-13\n",
      "2018-06-14\n",
      "2018-06-15\n",
      "2018-06-18\n",
      "2018-06-19\n",
      "2018-06-20\n",
      "2018-06-21\n",
      "2018-06-22\n",
      "2018-06-25\n",
      "2018-06-26\n",
      "2018-06-27\n",
      "2018-06-28\n",
      "2018-06-29\n",
      "2018-07-02\n",
      "2018-07-03\n",
      "2018-07-04\n",
      "2018-07-05\n",
      "2018-07-06\n",
      "2018-07-09\n",
      "2018-07-10\n",
      "2018-07-11\n",
      "2018-07-12\n",
      "2018-07-13\n",
      "2018-07-16\n",
      "2018-07-17\n",
      "2018-07-18\n",
      "2018-07-19\n",
      "2018-07-20\n",
      "2018-07-23\n",
      "2018-07-24\n",
      "2018-07-25\n",
      "2018-07-26\n",
      "2018-07-27\n",
      "2018-07-30\n",
      "2018-07-31\n",
      "2018-08-01\n",
      "2018-08-02\n",
      "2018-08-03\n",
      "2018-08-06\n",
      "2018-08-07\n",
      "2018-08-08\n",
      "2018-08-09\n",
      "2018-08-10\n",
      "2018-08-13\n",
      "2018-08-14\n",
      "2018-08-15\n",
      "2018-08-16\n",
      "2018-08-17\n",
      "2018-08-20\n",
      "2018-08-21\n",
      "2018-08-22\n",
      "2018-08-23\n",
      "2018-08-24\n",
      "2018-08-27\n",
      "2018-08-28\n",
      "2018-08-29\n",
      "2018-08-30\n",
      "2018-08-31\n",
      "2018-09-03\n",
      "2018-09-04\n",
      "2018-09-05\n",
      "2018-09-06\n",
      "2018-09-07\n",
      "2018-09-10\n",
      "2018-09-11\n",
      "2018-09-12\n",
      "2018-09-13\n",
      "2018-09-14\n",
      "2018-09-17\n",
      "2018-09-18\n",
      "2018-09-19\n",
      "2018-09-20\n",
      "2018-09-21\n",
      "2018-09-24\n",
      "2018-09-25\n",
      "2018-09-26\n",
      "2018-09-27\n",
      "2018-09-28\n",
      "2018-10-01\n",
      "2018-10-02\n",
      "2018-10-03\n",
      "2018-10-04\n",
      "2018-10-05\n",
      "2018-10-08\n",
      "2018-10-09\n",
      "2018-10-10\n",
      "2018-10-11\n",
      "2018-10-12\n",
      "2018-10-15\n",
      "2018-10-16\n",
      "2018-10-17\n",
      "2018-10-18\n",
      "2018-10-19\n",
      "2018-10-22\n",
      "2018-10-23\n",
      "2018-10-24\n",
      "2018-10-25\n",
      "2018-10-26\n",
      "2018-10-29\n",
      "2018-10-30\n",
      "2018-10-31\n",
      "2018-11-01\n",
      "2018-11-02\n",
      "2018-11-05\n",
      "2018-11-06\n",
      "2018-11-07\n",
      "2018-11-08\n",
      "2018-11-09\n",
      "2018-11-12\n",
      "2018-11-13\n",
      "2018-11-14\n",
      "2018-11-15\n",
      "2018-11-16\n",
      "2018-11-19\n",
      "2018-11-20\n",
      "2018-11-21\n",
      "2018-11-22\n",
      "2018-11-23\n",
      "2018-11-26\n",
      "2018-11-27\n",
      "2018-11-28\n",
      "2018-11-29\n",
      "2018-11-30\n",
      "2018-12-03\n",
      "2018-12-04\n",
      "2018-12-05\n",
      "2018-12-06\n",
      "2018-12-07\n",
      "2018-12-10\n",
      "2018-12-11\n",
      "2018-12-12\n",
      "2018-12-13\n",
      "2018-12-14\n",
      "2018-12-17\n",
      "2018-12-18\n",
      "2018-12-19\n",
      "2018-12-20\n",
      "2018-12-21\n",
      "2018-12-24\n",
      "2018-12-27\n",
      "2018-12-28\n",
      "2018-12-31\n",
      "2019-01-02\n",
      "2019-01-03\n",
      "2019-01-04\n",
      "2019-01-07\n",
      "2019-01-08\n",
      "2019-01-09\n",
      "2019-01-10\n",
      "2019-01-11\n",
      "2019-01-14\n",
      "2019-01-15\n",
      "2019-01-16\n",
      "2019-01-17\n",
      "2019-01-18\n",
      "2019-01-21\n",
      "2019-01-22\n",
      "2019-01-23\n",
      "2019-01-24\n",
      "2019-01-25\n",
      "2019-01-28\n",
      "2019-01-29\n",
      "2019-01-30\n",
      "2019-01-31\n",
      "2019-02-01\n",
      "2019-02-04\n",
      "2019-02-05\n",
      "2019-02-06\n",
      "2019-02-07\n",
      "2019-02-08\n",
      "2019-02-11\n",
      "2019-02-12\n",
      "2019-02-13\n",
      "2019-02-14\n",
      "2019-02-15\n",
      "2019-02-18\n",
      "2019-02-19\n",
      "2019-02-20\n",
      "2019-02-21\n",
      "2019-02-22\n",
      "2019-02-25\n",
      "2019-02-26\n",
      "2019-02-27\n",
      "2019-02-28\n",
      "2019-03-01\n",
      "2019-03-04\n",
      "2019-03-05\n",
      "2019-03-06\n",
      "2019-03-07\n",
      "2019-03-08\n",
      "2019-03-11\n",
      "2019-03-12\n",
      "2019-03-13\n",
      "2019-03-14\n",
      "2019-03-15\n",
      "2019-03-18\n",
      "2019-03-19\n",
      "2019-03-20\n",
      "2019-03-21\n",
      "2019-03-22\n",
      "2019-03-25\n",
      "2019-03-26\n",
      "2019-03-27\n",
      "2019-03-28\n",
      "2019-03-29\n",
      "2019-04-01\n",
      "2019-04-02\n",
      "2019-04-03\n",
      "2019-04-04\n",
      "2019-04-05\n",
      "2019-04-08\n",
      "2019-04-09\n",
      "2019-04-10\n",
      "2019-04-11\n",
      "2019-04-12\n",
      "2019-04-15\n",
      "2019-04-16\n",
      "2019-04-17\n",
      "2019-04-18\n",
      "2019-04-23\n",
      "2019-04-24\n",
      "2019-04-25\n",
      "2019-04-26\n",
      "2019-04-29\n",
      "2019-04-30\n",
      "2019-05-02\n",
      "2019-05-03\n",
      "2019-05-06\n",
      "2019-05-07\n",
      "2019-05-08\n",
      "2019-05-09\n",
      "2019-05-10\n",
      "2019-05-13\n",
      "2019-05-14\n",
      "2019-05-15\n",
      "2019-05-16\n",
      "2019-05-17\n",
      "2019-05-20\n",
      "2019-05-21\n",
      "2019-05-22\n",
      "2019-05-23\n",
      "2019-05-24\n",
      "2019-05-27\n",
      "2019-05-28\n",
      "2019-05-29\n",
      "2019-05-30\n",
      "2019-05-31\n",
      "2019-06-03\n",
      "2019-06-04\n",
      "2019-06-05\n",
      "2019-06-06\n",
      "2019-06-07\n",
      "2019-06-10\n",
      "2019-06-11\n",
      "2019-06-12\n",
      "2019-06-13\n",
      "2019-06-14\n",
      "2019-06-17\n",
      "2019-06-18\n",
      "2019-06-19\n",
      "2019-06-20\n",
      "2019-06-21\n",
      "2019-06-24\n",
      "2019-06-25\n",
      "2019-06-26\n",
      "2019-06-27\n",
      "2019-06-28\n",
      "2019-07-01\n",
      "2019-07-02\n",
      "2019-07-03\n",
      "2019-07-04\n",
      "2019-07-05\n",
      "2019-07-08\n",
      "2019-07-09\n",
      "2019-07-10\n",
      "2019-07-11\n",
      "2019-07-12\n",
      "2019-07-15\n",
      "2019-07-16\n",
      "2019-07-17\n",
      "2019-07-18\n",
      "2019-07-19\n",
      "2019-07-22\n",
      "2019-07-23\n",
      "2019-07-24\n",
      "2019-07-25\n",
      "2019-07-26\n",
      "2019-07-29\n",
      "2019-07-30\n",
      "2019-07-31\n",
      "2019-08-01\n",
      "2019-08-02\n",
      "2019-08-05\n",
      "2019-08-06\n",
      "2019-08-07\n",
      "2019-08-08\n",
      "2019-08-09\n",
      "2019-08-12\n",
      "2019-08-13\n",
      "2019-08-14\n",
      "2019-08-15\n",
      "2019-08-16\n",
      "2019-08-19\n",
      "2019-08-20\n",
      "2019-08-21\n",
      "2019-08-22\n",
      "2019-08-23\n",
      "2019-08-26\n",
      "2019-08-27\n",
      "2019-08-28\n",
      "2019-08-29\n",
      "2019-08-30\n",
      "2019-09-02\n",
      "2019-09-03\n",
      "2019-09-04\n",
      "2019-09-05\n",
      "2019-09-06\n",
      "2019-09-09\n",
      "2019-09-10\n",
      "2019-09-11\n",
      "2019-09-12\n",
      "2019-09-13\n",
      "2019-09-16\n",
      "2019-09-17\n",
      "2019-09-18\n",
      "2019-09-19\n",
      "2019-09-20\n",
      "2019-09-23\n",
      "2019-09-24\n",
      "2019-09-25\n",
      "2019-09-26\n",
      "2019-09-27\n",
      "2019-09-30\n",
      "2019-10-01\n",
      "2019-10-02\n",
      "2019-10-03\n",
      "2019-10-04\n",
      "2019-10-07\n",
      "2019-10-08\n",
      "2019-10-09\n",
      "2019-10-10\n",
      "2019-10-11\n",
      "2019-10-14\n",
      "2019-10-15\n",
      "2019-10-16\n",
      "2019-10-17\n",
      "2019-10-18\n",
      "2019-10-21\n",
      "2019-10-22\n",
      "2019-10-23\n",
      "2019-10-24\n",
      "2019-10-25\n",
      "2019-10-28\n",
      "2019-10-29\n",
      "2019-10-30\n",
      "2019-10-31\n",
      "2019-11-01\n",
      "2019-11-04\n",
      "2019-11-05\n",
      "2019-11-06\n",
      "2019-11-07\n",
      "2019-11-08\n",
      "2019-11-11\n",
      "2019-11-12\n",
      "2019-11-13\n",
      "2019-11-14\n",
      "2019-11-15\n",
      "2019-11-18\n",
      "2019-11-19\n",
      "2019-11-20\n",
      "2019-11-21\n",
      "2019-11-22\n",
      "2019-11-25\n",
      "2019-11-26\n",
      "2019-11-27\n",
      "2019-11-28\n",
      "2019-11-29\n",
      "2019-12-02\n",
      "2019-12-03\n",
      "2019-12-04\n",
      "2019-12-05\n",
      "2019-12-06\n",
      "2019-12-09\n",
      "2019-12-10\n",
      "2019-12-11\n",
      "2019-12-12\n",
      "2019-12-13\n",
      "2019-12-16\n",
      "2019-12-17\n",
      "2019-12-18\n",
      "2019-12-19\n",
      "2019-12-20\n",
      "2019-12-23\n",
      "2019-12-24\n",
      "2019-12-27\n",
      "2019-12-30\n",
      "2019-12-31\n",
      "2020-01-02\n",
      "2020-01-03\n",
      "2020-01-06\n",
      "2020-01-07\n",
      "2020-01-08\n",
      "2020-01-09\n",
      "2020-01-10\n",
      "2020-01-13\n",
      "2020-01-14\n",
      "2020-01-15\n",
      "2020-01-16\n",
      "2020-01-17\n",
      "2020-01-20\n",
      "2020-01-21\n",
      "2020-01-22\n",
      "2020-01-23\n",
      "2020-01-24\n",
      "2020-01-27\n",
      "2020-01-28\n",
      "2020-01-29\n",
      "2020-01-30\n",
      "2020-01-31\n",
      "2020-02-03\n",
      "2020-02-04\n",
      "2020-02-05\n",
      "2020-02-06\n",
      "2020-02-07\n",
      "2020-02-10\n",
      "2020-02-11\n",
      "2020-02-12\n",
      "2020-02-13\n",
      "2020-02-14\n",
      "2020-02-17\n",
      "2020-02-18\n",
      "2020-02-19\n",
      "2020-02-20\n",
      "2020-02-21\n",
      "2020-02-24\n",
      "2020-02-25\n",
      "2020-02-26\n",
      "2020-02-27\n",
      "2020-02-28\n",
      "2020-03-02\n",
      "2020-03-03\n",
      "2020-03-04\n",
      "2020-03-05\n",
      "2020-03-06\n",
      "2020-03-09\n",
      "2020-03-10\n",
      "2020-03-11\n",
      "2020-03-12\n",
      "2020-03-13\n",
      "2020-03-16\n",
      "2020-03-17\n",
      "2020-03-18\n",
      "2020-03-19\n",
      "2020-03-20\n",
      "2020-03-23\n",
      "2020-03-24\n",
      "2020-03-25\n",
      "2020-03-26\n",
      "2020-03-27\n",
      "2020-03-30\n",
      "2020-03-31\n",
      "2020-04-01\n",
      "2020-04-02\n",
      "2020-04-03\n",
      "2020-04-06\n",
      "2020-04-07\n",
      "2020-04-08\n",
      "2020-04-09\n",
      "2020-04-14\n",
      "2020-04-15\n",
      "2020-04-16\n",
      "2020-04-17\n",
      "2020-04-20\n",
      "2020-04-21\n",
      "2020-04-22\n",
      "2020-04-23\n",
      "2020-04-24\n",
      "2020-04-27\n",
      "2020-04-28\n",
      "2020-04-29\n",
      "2020-04-30\n",
      "2020-05-04\n",
      "2020-05-05\n",
      "2020-05-06\n",
      "2020-05-07\n",
      "2020-05-08\n",
      "2020-05-11\n",
      "2020-05-12\n",
      "2020-05-13\n",
      "2020-05-14\n",
      "2020-05-15\n",
      "2020-05-18\n",
      "2020-05-19\n",
      "2020-05-20\n",
      "2020-05-21\n",
      "2020-05-22\n",
      "2020-05-25\n",
      "2020-05-26\n",
      "2020-05-27\n",
      "2020-05-28\n",
      "2020-05-29\n",
      "2020-06-01\n",
      "2020-06-02\n",
      "2020-06-03\n",
      "2020-06-04\n",
      "2020-06-05\n",
      "2020-06-08\n",
      "2020-06-09\n",
      "2020-06-10\n",
      "2020-06-11\n",
      "2020-06-12\n",
      "2020-06-15\n",
      "2020-06-16\n",
      "2020-06-17\n",
      "2020-06-18\n",
      "2020-06-19\n",
      "2020-06-22\n",
      "2020-06-23\n",
      "2020-06-24\n",
      "2020-06-25\n",
      "2020-06-26\n",
      "2020-06-29\n",
      "2020-06-30\n",
      "2020-07-01\n",
      "2020-07-02\n",
      "2020-07-03\n",
      "2020-07-06\n",
      "2020-07-07\n",
      "2020-07-08\n",
      "2020-07-09\n",
      "2020-07-10\n",
      "2020-07-13\n",
      "2020-07-14\n",
      "2020-07-15\n",
      "2020-07-16\n",
      "2020-07-17\n",
      "2020-07-20\n",
      "2020-07-21\n",
      "2020-07-22\n",
      "2020-07-23\n",
      "2020-07-24\n",
      "2020-07-27\n",
      "2020-07-28\n",
      "2020-07-29\n",
      "2020-07-30\n",
      "2020-07-31\n",
      "2020-08-03\n",
      "2020-08-04\n",
      "2020-08-05\n",
      "2020-08-06\n",
      "2020-08-07\n",
      "2020-08-10\n",
      "2020-08-11\n",
      "2020-08-12\n",
      "2020-08-13\n",
      "2020-08-14\n",
      "2020-08-17\n",
      "2020-08-18\n",
      "2020-08-19\n",
      "2020-08-20\n",
      "2020-08-21\n",
      "2020-08-24\n",
      "2020-08-25\n",
      "2020-08-26\n",
      "2020-08-27\n",
      "2020-08-28\n",
      "2020-08-31\n",
      "2020-09-01\n",
      "2020-09-02\n",
      "2020-09-03\n",
      "2020-09-04\n",
      "2020-09-07\n",
      "2020-09-08\n",
      "2020-09-09\n",
      "2020-09-10\n",
      "2020-09-11\n",
      "2020-09-14\n",
      "2020-09-15\n",
      "2020-09-16\n",
      "2020-09-17\n",
      "2020-09-18\n",
      "2020-09-21\n",
      "2020-09-22\n",
      "2020-09-23\n",
      "2020-09-24\n",
      "2020-09-25\n",
      "2020-09-28\n",
      "2020-09-29\n",
      "2020-09-30\n",
      "2020-10-01\n",
      "2020-10-02\n",
      "2020-10-05\n",
      "2020-10-06\n",
      "2020-10-07\n",
      "2020-10-08\n",
      "2020-10-09\n",
      "2020-10-12\n",
      "2020-10-13\n",
      "2020-10-14\n",
      "2020-10-15\n",
      "2020-10-16\n",
      "2020-10-19\n",
      "2020-10-20\n",
      "2020-10-21\n",
      "2020-10-22\n",
      "2020-10-23\n",
      "2020-10-26\n",
      "2020-10-27\n",
      "2020-10-28\n",
      "2020-10-29\n",
      "2020-10-30\n",
      "2020-11-02\n",
      "2020-11-03\n",
      "2020-11-04\n",
      "2020-11-05\n",
      "2020-11-06\n",
      "2020-11-09\n",
      "2020-11-10\n",
      "2020-11-11\n",
      "2020-11-12\n",
      "2020-11-13\n",
      "2020-11-16\n",
      "2020-11-17\n",
      "2020-11-18\n",
      "2020-11-19\n",
      "2020-11-20\n",
      "2020-11-23\n",
      "2020-11-24\n",
      "2020-11-25\n",
      "2020-11-26\n",
      "2020-11-27\n",
      "2020-11-30\n",
      "2020-12-01\n",
      "2020-12-02\n",
      "2020-12-03\n",
      "2020-12-04\n",
      "2020-12-07\n",
      "2020-12-08\n",
      "2020-12-09\n",
      "2020-12-10\n",
      "2020-12-11\n",
      "2020-12-14\n",
      "2020-12-15\n",
      "2020-12-16\n",
      "2020-12-17\n",
      "2020-12-18\n",
      "2020-12-21\n",
      "2020-12-22\n",
      "2020-12-23\n",
      "2020-12-24\n",
      "2020-12-28\n",
      "2020-12-29\n",
      "2020-12-30\n",
      "2020-12-31\n",
      "2021-01-04\n",
      "2021-01-05\n",
      "2021-01-06\n",
      "2021-01-07\n",
      "2021-01-08\n",
      "2021-01-11\n",
      "2021-01-12\n",
      "2021-01-13\n",
      "2021-01-14\n",
      "2021-01-15\n",
      "2021-01-18\n",
      "2021-01-19\n",
      "2021-01-20\n",
      "2021-01-21\n",
      "2021-01-22\n",
      "2021-01-25\n",
      "2021-01-26\n",
      "2021-01-27\n",
      "2021-01-28\n",
      "2021-01-29\n",
      "2021-02-01\n",
      "2021-02-02\n",
      "2021-02-03\n",
      "2021-02-04\n",
      "2021-02-05\n",
      "2021-02-08\n",
      "2021-02-09\n",
      "2021-02-10\n",
      "2021-02-11\n",
      "2021-02-12\n",
      "2021-02-15\n",
      "2021-02-16\n",
      "2021-02-17\n",
      "2021-02-18\n",
      "2021-02-19\n",
      "2021-02-22\n",
      "2021-02-23\n",
      "2021-02-24\n",
      "2021-02-25\n",
      "2021-02-26\n",
      "2021-03-01\n",
      "2021-03-02\n",
      "2021-03-03\n",
      "2021-03-04\n",
      "2021-03-05\n",
      "2021-03-08\n",
      "2021-03-09\n",
      "2021-03-10\n",
      "2021-03-11\n",
      "2021-03-12\n"
     ]
    }
   ],
   "source": [
    "import requests\n",
    "base = input('what base')\n",
    "symbols = input('what rate')\n",
    "url = f\"https://api.exchangeratesapi.io/history?start_at=2018-01-01&end_at=2021-03-12&base={base}&symbols={symbols}\"\n",
    "\n",
    "response = requests.get(url)\n",
    "data = response.json()\n",
    "\n",
    "for date in sorted(data['rates']):\n",
    "    print(date)"
   ]
  },
  {
   "cell_type": "code",
   "execution_count": 4,
   "metadata": {},
   "outputs": [
    {
     "name": "stdout",
     "output_type": "stream",
     "text": [
      "{'rates': {'HKD': 1.1932866196}, 'base': 'CNY', 'date': '2021-03-12'}\n",
      "1.1932866196\n"
     ]
    }
   ],
   "source": [
    "import json\n",
    "import requests\n",
    "\n",
    "url = \"https://api.exchangeratesapi.io/latest?symbols=HKD&base=CNY\"\n",
    "\n",
    "response = requests.get(url)\n",
    "data = json.loads(response.text)\n",
    "print(data)\n",
    "\n",
    "print(data['rates']['HKD'])\n"
   ]
  },
  {
   "cell_type": "code",
   "execution_count": null,
   "metadata": {},
   "outputs": [],
   "source": []
  }
 ],
 "metadata": {
  "kernelspec": {
   "display_name": "Python 3",
   "language": "python",
   "name": "python3"
  },
  "language_info": {
   "codemirror_mode": {
    "name": "ipython",
    "version": 3
   },
   "file_extension": ".py",
   "mimetype": "text/x-python",
   "name": "python",
   "nbconvert_exporter": "python",
   "pygments_lexer": "ipython3",
   "version": "3.7.3"
  }
 },
 "nbformat": 4,
 "nbformat_minor": 4
}
